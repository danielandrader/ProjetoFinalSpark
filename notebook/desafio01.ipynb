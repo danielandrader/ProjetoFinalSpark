{
 "cells": [
  {
   "cell_type": "markdown",
   "metadata": {},
   "source": [
    "# Desafio 1\n",
    "\n",
    "Painel COVID - https://covid.saude.gov.br/\n",
    "\n",
    "Autor: Daniel Andrade\n",
    "\n",
    "Data: 05/11/2021\n",
    "\n",
    "3. Criar as 3 vizualizações pelo Spark com os dados enviados para o HDFS:\n",
    "4. Salvar a primeira visualização como tabela Hive\n",
    "5. Salvar a segunda visualização com formato parquet e compressão snappy\n",
    "6. Salvar a terceira visualização em um tópico no Kafka\n",
    "7. Criar a visualização pelo Spark com os dados enviados para o HDFS:\n",
    "8. Salvar a visualização do exercício 6 em um tópico no Elastic\n",
    "9. Criar um dashboard no Elastic para visualização dos novos dados enviados"
   ]
  },
  {
   "cell_type": "markdown",
   "metadata": {},
   "source": [
    "## Visualizações da tabela Hive\n",
    "\n",
    "Utilizada a linguagem SQL para gerar as visualizações"
   ]
  },
  {
   "cell_type": "markdown",
   "metadata": {},
   "source": [
    "### Imports e configurações"
   ]
  },
  {
   "cell_type": "code",
   "execution_count": 3,
   "metadata": {},
   "outputs": [],
   "source": [
    "from pyspark.sql import HiveContext"
   ]
  },
  {
   "cell_type": "code",
   "execution_count": 4,
   "metadata": {},
   "outputs": [
    {
     "data": {
      "text/html": [
       "\n",
       "            <div>\n",
       "                <p><b>SparkSession - hive</b></p>\n",
       "                \n",
       "        <div>\n",
       "            <p><b>SparkContext</b></p>\n",
       "\n",
       "            <p><a href=\"http://spark:4040\">Spark UI</a></p>\n",
       "\n",
       "            <dl>\n",
       "              <dt>Version</dt>\n",
       "                <dd><code>v2.4.1</code></dd>\n",
       "              <dt>Master</dt>\n",
       "                <dd><code>local[*]</code></dd>\n",
       "              <dt>AppName</dt>\n",
       "                <dd><code>pyspark-shell</code></dd>\n",
       "            </dl>\n",
       "        </div>\n",
       "        \n",
       "            </div>\n",
       "        "
      ],
      "text/plain": [
       "<pyspark.sql.session.SparkSession at 0x7feadd88b9e8>"
      ]
     },
     "execution_count": 4,
     "metadata": {},
     "output_type": "execute_result"
    }
   ],
   "source": [
    "spark"
   ]
  },
  {
   "cell_type": "code",
   "execution_count": 5,
   "metadata": {
    "scrolled": true
   },
   "outputs": [],
   "source": [
    "sqlContext = HiveContext(sc)"
   ]
  },
  {
   "cell_type": "markdown",
   "metadata": {},
   "source": [
    "### Exploração dos dados"
   ]
  },
  {
   "cell_type": "code",
   "execution_count": 6,
   "metadata": {},
   "outputs": [
    {
     "name": "stdout",
     "output_type": "stream",
     "text": [
      "+------------+\n",
      "|databaseName|\n",
      "+------------+\n",
      "|       covid|\n",
      "|     default|\n",
      "+------------+\n",
      "\n"
     ]
    }
   ],
   "source": [
    "sqlContext.sql(\"show databases\").show()"
   ]
  },
  {
   "cell_type": "code",
   "execution_count": 7,
   "metadata": {},
   "outputs": [
    {
     "name": "stdout",
     "output_type": "stream",
     "text": [
      "++\n",
      "||\n",
      "++\n",
      "++\n",
      "\n"
     ]
    }
   ],
   "source": [
    "sqlContext.sql(\"use covid\").show()"
   ]
  },
  {
   "cell_type": "code",
   "execution_count": 8,
   "metadata": {},
   "outputs": [
    {
     "name": "stdout",
     "output_type": "stream",
     "text": [
      "+--------+----------------+-----------+\n",
      "|database|       tableName|isTemporary|\n",
      "+--------+----------------+-----------+\n",
      "|   covid| tbl_brasil_acum|      false|\n",
      "|   covid|tbl_brasil_recup|      false|\n",
      "|   covid|   tbl_covid_ext|      false|\n",
      "|   covid|  tbl_covid_part|      false|\n",
      "+--------+----------------+-----------+\n",
      "\n"
     ]
    }
   ],
   "source": [
    "sqlContext.sql(\"show tables\").show()"
   ]
  },
  {
   "cell_type": "code",
   "execution_count": 9,
   "metadata": {},
   "outputs": [
    {
     "name": "stdout",
     "output_type": "stream",
     "text": [
      "+--------+\n",
      "|count(1)|\n",
      "+--------+\n",
      "| 3304844|\n",
      "+--------+\n",
      "\n"
     ]
    }
   ],
   "source": [
    "sqlContext.sql(\"select count(*) from tbl_covid_part\").show()"
   ]
  },
  {
   "cell_type": "code",
   "execution_count": 10,
   "metadata": {},
   "outputs": [
    {
     "name": "stdout",
     "output_type": "stream",
     "text": [
      "+--------------------+---------+-------+\n",
      "|            col_name|data_type|comment|\n",
      "+--------------------+---------+-------+\n",
      "|              regiao|   string|   null|\n",
      "|              estado|   string|   null|\n",
      "|           municipio|   string|   null|\n",
      "|               coduf|      int|   null|\n",
      "|              codmun|      int|   null|\n",
      "|      codregiaosaude|      int|   null|\n",
      "|     nomeregiaosaude|   string|   null|\n",
      "|                data|     date|   null|\n",
      "|           semanaepi|      int|   null|\n",
      "|    populacaotcu2019|      int|   null|\n",
      "|      casosacumulado|      int|   null|\n",
      "|          casosnovos|      int|   null|\n",
      "|     obitosacumulado|      int|   null|\n",
      "|         obitosnovos|      int|   null|\n",
      "|    recuperadosnovos|      int|   null|\n",
      "|emacompanhamenton...|      int|   null|\n",
      "|interior_metropol...|      int|   null|\n",
      "+--------------------+---------+-------+\n",
      "\n"
     ]
    }
   ],
   "source": [
    "sqlContext.sql(\"describe tbl_covid_part\").show()"
   ]
  },
  {
   "cell_type": "code",
   "execution_count": 11,
   "metadata": {},
   "outputs": [
    {
     "name": "stdout",
     "output_type": "stream",
     "text": [
      "+--------+\n",
      "|count(1)|\n",
      "+--------+\n",
      "| 1730652|\n",
      "+--------+\n",
      "\n"
     ]
    }
   ],
   "source": [
    "sqlContext.sql(\"select count(*) from tbl_covid_part where data >= '2021-01-01'\").show()"
   ]
  },
  {
   "cell_type": "code",
   "execution_count": 12,
   "metadata": {},
   "outputs": [
    {
     "name": "stdout",
     "output_type": "stream",
     "text": [
      "+---------+----------+\n",
      "|municipio|      data|\n",
      "+---------+----------+\n",
      "|   Santos|2021-01-01|\n",
      "|   Santos|2021-01-02|\n",
      "|   Santos|2021-01-03|\n",
      "|   Santos|2021-01-04|\n",
      "|   Santos|2021-01-05|\n",
      "+---------+----------+\n",
      "only showing top 5 rows\n",
      "\n"
     ]
    }
   ],
   "source": [
    "sqlContext.sql(\"select municipio, data from tbl_covid_part where municipio='Santos' and data >= '2021-01-01'\").show(5)"
   ]
  },
  {
   "cell_type": "code",
   "execution_count": 13,
   "metadata": {},
   "outputs": [
    {
     "name": "stdout",
     "output_type": "stream",
     "text": [
      "+------+----------+--------------+\n",
      "|regiao|      data|casosacumulado|\n",
      "+------+----------+--------------+\n",
      "|Brasil|2021-01-01|       7700578|\n",
      "|Brasil|2021-01-02|       7716405|\n",
      "|Brasil|2021-01-03|       7733746|\n",
      "|Brasil|2021-01-04|       7753752|\n",
      "|Brasil|2021-01-05|       7810400|\n",
      "+------+----------+--------------+\n",
      "only showing top 5 rows\n",
      "\n"
     ]
    }
   ],
   "source": [
    "sqlContext.sql(\"select regiao, data, casosacumulado from tbl_covid_part where regiao = 'Brasil' and data >= '2021-01-01'\").show(5)"
   ]
  },
  {
   "cell_type": "code",
   "execution_count": 14,
   "metadata": {},
   "outputs": [
    {
     "name": "stdout",
     "output_type": "stream",
     "text": [
      "+----------+\n",
      "| max(data)|\n",
      "+----------+\n",
      "|2021-11-04|\n",
      "+----------+\n",
      "\n"
     ]
    }
   ],
   "source": [
    "sqlContext.sql(\"select max(data) from tbl_covid_part where regiao = 'Brasil'\").show(5)"
   ]
  },
  {
   "cell_type": "code",
   "execution_count": 15,
   "metadata": {},
   "outputs": [
    {
     "name": "stdout",
     "output_type": "stream",
     "text": [
      "+------+----------+--------------+\n",
      "|regiao|      data|casosacumulado|\n",
      "+------+----------+--------------+\n",
      "|Brasil|2021-11-04|      21849137|\n",
      "+------+----------+--------------+\n",
      "\n"
     ]
    }
   ],
   "source": [
    "sqlContext.sql(\"select regiao, data, casosacumulado from tbl_covid_part where regiao = 'Brasil' and data >= '2021-11-04'\").show()"
   ]
  },
  {
   "cell_type": "code",
   "execution_count": null,
   "metadata": {},
   "outputs": [],
   "source": []
  },
  {
   "cell_type": "code",
   "execution_count": 16,
   "metadata": {
    "scrolled": true
   },
   "outputs": [
    {
     "name": "stdout",
     "output_type": "stream",
     "text": [
      "+-------+-------------------+\n",
      "| regiao|sum(casosacumulado)|\n",
      "+-------+-------------------+\n",
      "|Sudeste|            8520937|\n",
      "+-------+-------------------+\n",
      "\n"
     ]
    }
   ],
   "source": [
    "sqlContext.sql(\"select regiao, sum(casosacumulado) from tbl_covid_part where regiao <> 'Brasil' and regiao = 'Sudeste' and trim(municipio) <> ''  and data = '2021-11-04' group by regiao\").show()"
   ]
  },
  {
   "cell_type": "code",
   "execution_count": 17,
   "metadata": {
    "scrolled": false
   },
   "outputs": [
    {
     "name": "stdout",
     "output_type": "stream",
     "text": [
      "+------------+-------------------+\n",
      "|      regiao|sum(casosacumulado)|\n",
      "+------------+-------------------+\n",
      "|    Nordeste|            4837356|\n",
      "|         Sul|            4242401|\n",
      "|     Sudeste|            8520937|\n",
      "|Centro-Oeste|            2344394|\n",
      "|       Norte|            1863191|\n",
      "+------------+-------------------+\n",
      "\n"
     ]
    }
   ],
   "source": [
    "sqlContext.sql(\"select regiao, sum(casosacumulado) from tbl_covid_part where regiao <> 'Brasil' and trim(municipio) <> '' and data = '2021-11-04' group by regiao\").show()"
   ]
  },
  {
   "cell_type": "code",
   "execution_count": 18,
   "metadata": {},
   "outputs": [
    {
     "name": "stdout",
     "output_type": "stream",
     "text": [
      "+-------------------+\n",
      "|sum(casosacumulado)|\n",
      "+-------------------+\n",
      "|           21808279|\n",
      "+-------------------+\n",
      "\n"
     ]
    }
   ],
   "source": [
    "sqlContext.sql(\"select sum(casosacumulado) from tbl_covid_part where regiao <> 'Brasil' and trim(municipio) <> '' and data = '2021-11-04'\").show()"
   ]
  },
  {
   "cell_type": "code",
   "execution_count": 19,
   "metadata": {
    "scrolled": true
   },
   "outputs": [
    {
     "name": "stdout",
     "output_type": "stream",
     "text": [
      "+---------------+\n",
      "|sum(casosnovos)|\n",
      "+---------------+\n",
      "|          13352|\n",
      "+---------------+\n",
      "\n"
     ]
    }
   ],
   "source": [
    "sqlContext.sql(\"select sum(casosnovos) from tbl_covid_part where regiao = 'Brasil' and data = '2021-11-04'\").show()"
   ]
  },
  {
   "cell_type": "code",
   "execution_count": 20,
   "metadata": {
    "scrolled": true
   },
   "outputs": [
    {
     "name": "stdout",
     "output_type": "stream",
     "text": [
      "+------------+---------------+\n",
      "|      regiao|sum(casosnovos)|\n",
      "+------------+---------------+\n",
      "|    Nordeste|           1979|\n",
      "|         Sul|           3350|\n",
      "|     Sudeste|           5102|\n",
      "|Centro-Oeste|           1902|\n",
      "|       Norte|           1010|\n",
      "+------------+---------------+\n",
      "\n"
     ]
    }
   ],
   "source": [
    "sqlContext.sql(\"select regiao, sum(casosnovos) from tbl_covid_part where regiao <> 'Brasil' and trim(municipio) <> '' and data = '2021-11-04' group by regiao\").show()"
   ]
  },
  {
   "cell_type": "code",
   "execution_count": 21,
   "metadata": {},
   "outputs": [
    {
     "name": "stdout",
     "output_type": "stream",
     "text": [
      "+--------------------+\n",
      "|sum(obitosacumulado)|\n",
      "+--------------------+\n",
      "|              608671|\n",
      "+--------------------+\n",
      "\n"
     ]
    }
   ],
   "source": [
    "sqlContext.sql(\"select sum(obitosacumulado) from tbl_covid_part where regiao = 'Brasil' and data = '2021-11-04'\").show()"
   ]
  },
  {
   "cell_type": "code",
   "execution_count": 22,
   "metadata": {
    "scrolled": true
   },
   "outputs": [
    {
     "name": "stdout",
     "output_type": "stream",
     "text": [
      "+----------------+\n",
      "|sum(obitosnovos)|\n",
      "+----------------+\n",
      "|             436|\n",
      "+----------------+\n",
      "\n"
     ]
    }
   ],
   "source": [
    "sqlContext.sql(\"select sum(obitosnovos) from tbl_covid_part where regiao = 'Brasil' and data = '2021-11-04'\").show()"
   ]
  },
  {
   "cell_type": "code",
   "execution_count": 23,
   "metadata": {
    "scrolled": true
   },
   "outputs": [
    {
     "name": "stdout",
     "output_type": "stream",
     "text": [
      "+---------------------+\n",
      "|sum(recuperadosnovos)|\n",
      "+---------------------+\n",
      "|             21047296|\n",
      "+---------------------+\n",
      "\n"
     ]
    }
   ],
   "source": [
    "sqlContext.sql(\"select sum(recuperadosnovos) from tbl_covid_part where regiao = 'Brasil' and data = '2021-11-04'\").show()"
   ]
  },
  {
   "cell_type": "markdown",
   "metadata": {},
   "source": [
    "## Visulização 1 (Recuperados)"
   ]
  },
  {
   "cell_type": "code",
   "execution_count": 24,
   "metadata": {},
   "outputs": [
    {
     "name": "stdout",
     "output_type": "stream",
     "text": [
      "+------+----------+----------------+----------------+---------------------+\n",
      "|regiao|      data|populacaotcu2019|recuperadosnovos|emacompanhamentonovos|\n",
      "+------+----------+----------------+----------------+---------------------+\n",
      "|Brasil|2021-11-04|       210147125|        21047296|               193170|\n",
      "+------+----------+----------------+----------------+---------------------+\n",
      "\n"
     ]
    }
   ],
   "source": [
    "sqlContext.sql(\"select regiao, data, populacaotcu2019, recuperadosnovos, emacompanhamentonovos from tbl_covid_part where regiao = 'Brasil' and data >= '2021-11-04'\").show()"
   ]
  },
  {
   "cell_type": "code",
   "execution_count": 25,
   "metadata": {},
   "outputs": [],
   "source": [
    "df_brasil_recup = sqlContext.sql(\"select regiao, data, populacaotcu2019, recuperadosnovos, emacompanhamentonovos from tbl_covid_part where regiao = 'Brasil' and data >= '2021-11-04'\")"
   ]
  },
  {
   "cell_type": "markdown",
   "metadata": {},
   "source": [
    "### Salva como Hive Table"
   ]
  },
  {
   "cell_type": "code",
   "execution_count": 32,
   "metadata": {},
   "outputs": [],
   "source": [
    "df_brasil_recup.createOrReplaceTempView(\"tbl_brasil_temp_recup\")"
   ]
  },
  {
   "cell_type": "code",
   "execution_count": 33,
   "metadata": {},
   "outputs": [
    {
     "data": {
      "text/plain": [
       "DataFrame[]"
      ]
     },
     "execution_count": 33,
     "metadata": {},
     "output_type": "execute_result"
    }
   ],
   "source": [
    "sqlContext.sql(\"create table if not exists tbl_brasil_recup as select * from tbl_brasil_temp_recup\")"
   ]
  },
  {
   "cell_type": "markdown",
   "metadata": {},
   "source": [
    "### Salva como Parquet"
   ]
  },
  {
   "cell_type": "code",
   "execution_count": 42,
   "metadata": {},
   "outputs": [],
   "source": [
    "#!pip install fabric3"
   ]
  },
  {
   "cell_type": "code",
   "execution_count": 43,
   "metadata": {},
   "outputs": [
    {
     "name": "stdout",
     "output_type": "stream",
     "text": [
      "[localhost] local: hadoop fs -stat hdfs://namenode:8020/user/root/brasil.recup.parquet\n"
     ]
    }
   ],
   "source": [
    "from fabric.api import local\n",
    "from fabric.context_managers import settings\n",
    "\n",
    "file_exists = False\n",
    "with settings(warn_only=True):\n",
    "    result = local('hadoop fs -stat hdfs://namenode:8020/user/root/brasil.recup.parquet', capture=True)\n",
    "    file_exists = result.succeeded"
   ]
  },
  {
   "cell_type": "code",
   "execution_count": 44,
   "metadata": {},
   "outputs": [
    {
     "data": {
      "text/plain": [
       "True"
      ]
     },
     "execution_count": 44,
     "metadata": {},
     "output_type": "execute_result"
    }
   ],
   "source": [
    "file_exists"
   ]
  },
  {
   "cell_type": "code",
   "execution_count": 45,
   "metadata": {},
   "outputs": [],
   "source": [
    "if not file_exists:\n",
    "  df_brasil_recup.write.parquet(\"brasil.recup.parquet\")"
   ]
  },
  {
   "cell_type": "markdown",
   "metadata": {},
   "source": [
    "## Visualização 2 (Confirmados)"
   ]
  },
  {
   "cell_type": "code",
   "execution_count": 46,
   "metadata": {},
   "outputs": [
    {
     "name": "stdout",
     "output_type": "stream",
     "text": [
      "+------+----------+----------------+--------------+-----------------+----------+\n",
      "|regiao|      data|populacaotcu2019|casosacumulado|       incidencia|casosnovos|\n",
      "+------+----------+----------------+--------------+-----------------+----------+\n",
      "|Brasil|2021-11-04|       210147125|      21849137|10.39706681687889|     13352|\n",
      "+------+----------+----------------+--------------+-----------------+----------+\n",
      "\n"
     ]
    }
   ],
   "source": [
    "sqlContext.sql(\"select regiao, data, populacaotcu2019, casosacumulado, (casosacumulado*100.000)/populacaotcu2019 incidencia, casosnovos from tbl_covid_part where regiao = 'Brasil' and data >= '2021-11-04'\").show()"
   ]
  },
  {
   "cell_type": "markdown",
   "metadata": {},
   "source": [
    "### Coeficiente de Incidência de COVID-19\n",
    "\n",
    "Método de cálculo\n",
    "\n",
    "Número de casos confirmados de COVID-19 em residentes X 100.000 / População* total residente no período determinado."
   ]
  },
  {
   "cell_type": "code",
   "execution_count": 47,
   "metadata": {},
   "outputs": [],
   "source": [
    "df_brasil = sqlContext.sql(\"select regiao, data, populacaotcu2019, casosacumulado, (casosacumulado*100.000)/populacaotcu2019 incidencia, casosnovos from tbl_covid_part where regiao = 'Brasil' and data >= '2021-11-04'\")"
   ]
  },
  {
   "cell_type": "markdown",
   "metadata": {},
   "source": [
    "### Salva como Hive Table"
   ]
  },
  {
   "cell_type": "code",
   "execution_count": 48,
   "metadata": {},
   "outputs": [],
   "source": [
    "df_brasil.createOrReplaceTempView(\"tbl_brasil_temp\")"
   ]
  },
  {
   "cell_type": "code",
   "execution_count": 49,
   "metadata": {},
   "outputs": [
    {
     "data": {
      "text/plain": [
       "DataFrame[]"
      ]
     },
     "execution_count": 49,
     "metadata": {},
     "output_type": "execute_result"
    }
   ],
   "source": [
    "sqlContext.sql(\"create table if not exists tbl_brasil_acum as select * from tbl_brasil_temp\")"
   ]
  },
  {
   "cell_type": "markdown",
   "metadata": {},
   "source": [
    "### Salva como Parquet"
   ]
  },
  {
   "cell_type": "code",
   "execution_count": 51,
   "metadata": {},
   "outputs": [
    {
     "name": "stdout",
     "output_type": "stream",
     "text": [
      "[localhost] local: hadoop fs -stat hdfs://namenode:8020/user/root/brasil.acum.parquet\n"
     ]
    }
   ],
   "source": [
    "from fabric.api import local\n",
    "from fabric.context_managers import settings\n",
    "\n",
    "file_exists = False\n",
    "with settings(warn_only=True):\n",
    "    result = local('hadoop fs -stat hdfs://namenode:8020/user/root/brasil.acum.parquet', capture=True)\n",
    "    file_exists = result.succeeded"
   ]
  },
  {
   "cell_type": "code",
   "execution_count": 52,
   "metadata": {},
   "outputs": [
    {
     "data": {
      "text/plain": [
       "True"
      ]
     },
     "execution_count": 52,
     "metadata": {},
     "output_type": "execute_result"
    }
   ],
   "source": [
    "file_exists"
   ]
  },
  {
   "cell_type": "code",
   "execution_count": 53,
   "metadata": {},
   "outputs": [],
   "source": [
    "if not file_exists:\n",
    "  df_brasil.write.parquet(\"brasil.acum.parquet\")"
   ]
  },
  {
   "cell_type": "markdown",
   "metadata": {},
   "source": [
    "## Visualização 3 (Óbitos)"
   ]
  },
  {
   "cell_type": "code",
   "execution_count": 54,
   "metadata": {},
   "outputs": [
    {
     "name": "stdout",
     "output_type": "stream",
     "text": [
      "+------+----------+----------------+---------------+----------------+----------------+-----------+\n",
      "|regiao|      data|populacaotcu2019|obitosacumulado|     coeficiente|            taxa|obitosnovos|\n",
      "+------+----------+----------------+---------------+----------------+----------------+-----------+\n",
      "|Brasil|2021-11-04|       210147125|         608671|0.28964041263948|2.78578966299676|        436|\n",
      "+------+----------+----------------+---------------+----------------+----------------+-----------+\n",
      "\n"
     ]
    }
   ],
   "source": [
    "sqlContext.sql(\"select regiao, data, populacaotcu2019, obitosacumulado, (obitosacumulado*100.000)/populacaotcu2019 coeficiente, (obitosacumulado*100.000)/casosacumulado taxa, obitosnovos from tbl_covid_part where regiao = 'Brasil' and data = '2021-11-04'\").show()"
   ]
  },
  {
   "cell_type": "markdown",
   "metadata": {},
   "source": [
    "#### Coeficiente de Mortalidade por COVID-19\n",
    "\n",
    "Método de cálculo\n",
    "\n",
    "Número de óbitos confirmados de COVID-19 em residentes X 100.000 / População* total residente no período determinado.\n",
    "\n",
    "#### Taxa de Letalidade por COVID-19\n",
    "\n",
    "Método de cálculo\n",
    "\n",
    "Número de óbitos confirmados de COVID-19 em determinada área e período X 100 / Número de casos confirmados de COVID-19 em determinada área e período."
   ]
  },
  {
   "cell_type": "markdown",
   "metadata": {},
   "source": [
    "## Visualização 4 (Região)"
   ]
  },
  {
   "cell_type": "code",
   "execution_count": 55,
   "metadata": {},
   "outputs": [
    {
     "name": "stdout",
     "output_type": "stream",
     "text": [
      "+------------+-------+------+----------+---------------------+\n",
      "|      regiao|  casos|obitos|      data|sum(populacaotcu2019)|\n",
      "+------------+-------+------+----------+---------------------+\n",
      "|    Nordeste|4837356|117870|2021-11-04|             57071654|\n",
      "|     Sudeste|8520937|288634|2021-11-04|             88371433|\n",
      "|       Norte|1863191| 46836|2021-11-04|             18430980|\n",
      "|         Sul|4242401| 95654|2021-11-04|             29975984|\n",
      "|Centro-Oeste|2344394| 58515|2021-11-04|             16297074|\n",
      "+------------+-------+------+----------+---------------------+\n",
      "\n"
     ]
    }
   ],
   "source": [
    "sqlContext.sql(\"select regiao, sum(casosacumulado) casos, sum(obitosacumulado) obitos, data, sum(populacaotcu2019) from tbl_covid_part where regiao <> 'Brasil' and trim(municipio) <> '' and data = '2021-11-04' group by regiao, data\").show()"
   ]
  },
  {
   "cell_type": "code",
   "execution_count": 56,
   "metadata": {},
   "outputs": [
    {
     "name": "stdout",
     "output_type": "stream",
     "text": [
      "+------------+-------+------+-----------------+----------------+----------+\n",
      "|      regiao|  casos|obitos|       incidencia|     mortalidade|      data|\n",
      "+------------+-------+------+-----------------+----------------+----------+\n",
      "|    Nordeste|4837356|117870| 8.47593448053915|0.20652984754919|2021-11-04|\n",
      "|     Sudeste|8520937|288634| 9.64218493548701|0.32661459727602|2021-11-04|\n",
      "|       Norte|1863191| 46836|10.10901753460749|0.25411562488810|2021-11-04|\n",
      "|         Sul|4242401| 95654|14.15266634783365|0.31910211854930|2021-11-04|\n",
      "|Centro-Oeste|2344394| 58515|14.38536758193526|0.35905218323240|2021-11-04|\n",
      "+------------+-------+------+-----------------+----------------+----------+\n",
      "\n"
     ]
    }
   ],
   "source": [
    "sqlContext.sql(\"select regiao, casos, obitos, (casos*100.000)/populacao incidencia, (obitos*100.000)/populacao mortalidade, data from (select regiao, sum(casosacumulado) casos, sum(obitosacumulado) obitos, data, sum(populacaotcu2019) populacao from tbl_covid_part where regiao <> 'Brasil' and trim(municipio) <> '' and data = '2021-11-04' group by regiao, data) x\").show()"
   ]
  }
 ],
 "metadata": {
  "kernelspec": {
   "display_name": "PySpark",
   "language": "python",
   "name": "pyspark"
  }
 },
 "nbformat": 4,
 "nbformat_minor": 2
}
